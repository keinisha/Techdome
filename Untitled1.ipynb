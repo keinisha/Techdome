{
  "nbformat": 4,
  "nbformat_minor": 0,
  "metadata": {
    "colab": {
      "provenance": []
    },
    "kernelspec": {
      "name": "python3",
      "display_name": "Python 3"
    },
    "language_info": {
      "name": "python"
    },
    "accelerator": "GPU",
    "gpuClass": "standard"
  },
  "cells": [
    {
      "cell_type": "code",
      "execution_count": 1,
      "metadata": {
        "colab": {
          "base_uri": "https://localhost:8080/"
        },
        "id": "5zgqYa2I-kVQ",
        "outputId": "1810ff83-60c2-4c4c-d66f-174f33b40a87"
      },
      "outputs": [
        {
          "output_type": "stream",
          "name": "stdout",
          "text": [
            "Looking in indexes: https://pypi.org/simple, https://us-python.pkg.dev/colab-wheels/public/simple/\n",
            "Requirement already satisfied: keras in /usr/local/lib/python3.9/dist-packages (2.12.0)\n",
            "Looking in indexes: https://pypi.org/simple, https://us-python.pkg.dev/colab-wheels/public/simple/\n",
            "Requirement already satisfied: tensorflow in /usr/local/lib/python3.9/dist-packages (2.12.0)\n",
            "Requirement already satisfied: numpy<1.24,>=1.22 in /usr/local/lib/python3.9/dist-packages (from tensorflow) (1.22.4)\n",
            "Requirement already satisfied: libclang>=13.0.0 in /usr/local/lib/python3.9/dist-packages (from tensorflow) (16.0.0)\n",
            "Requirement already satisfied: flatbuffers>=2.0 in /usr/local/lib/python3.9/dist-packages (from tensorflow) (23.3.3)\n",
            "Requirement already satisfied: setuptools in /usr/local/lib/python3.9/dist-packages (from tensorflow) (67.7.2)\n",
            "Requirement already satisfied: keras<2.13,>=2.12.0 in /usr/local/lib/python3.9/dist-packages (from tensorflow) (2.12.0)\n",
            "Requirement already satisfied: jax>=0.3.15 in /usr/local/lib/python3.9/dist-packages (from tensorflow) (0.4.8)\n",
            "Requirement already satisfied: tensorflow-estimator<2.13,>=2.12.0 in /usr/local/lib/python3.9/dist-packages (from tensorflow) (2.12.0)\n",
            "Requirement already satisfied: wrapt<1.15,>=1.11.0 in /usr/local/lib/python3.9/dist-packages (from tensorflow) (1.14.1)\n",
            "Requirement already satisfied: h5py>=2.9.0 in /usr/local/lib/python3.9/dist-packages (from tensorflow) (3.8.0)\n",
            "Requirement already satisfied: grpcio<2.0,>=1.24.3 in /usr/local/lib/python3.9/dist-packages (from tensorflow) (1.54.0)\n",
            "Requirement already satisfied: astunparse>=1.6.0 in /usr/local/lib/python3.9/dist-packages (from tensorflow) (1.6.3)\n",
            "Requirement already satisfied: opt-einsum>=2.3.2 in /usr/local/lib/python3.9/dist-packages (from tensorflow) (3.3.0)\n",
            "Requirement already satisfied: packaging in /usr/local/lib/python3.9/dist-packages (from tensorflow) (23.1)\n",
            "Requirement already satisfied: gast<=0.4.0,>=0.2.1 in /usr/local/lib/python3.9/dist-packages (from tensorflow) (0.4.0)\n",
            "Requirement already satisfied: tensorboard<2.13,>=2.12 in /usr/local/lib/python3.9/dist-packages (from tensorflow) (2.12.2)\n",
            "Requirement already satisfied: tensorflow-io-gcs-filesystem>=0.23.1 in /usr/local/lib/python3.9/dist-packages (from tensorflow) (0.32.0)\n",
            "Requirement already satisfied: six>=1.12.0 in /usr/local/lib/python3.9/dist-packages (from tensorflow) (1.16.0)\n",
            "Requirement already satisfied: google-pasta>=0.1.1 in /usr/local/lib/python3.9/dist-packages (from tensorflow) (0.2.0)\n",
            "Requirement already satisfied: protobuf!=4.21.0,!=4.21.1,!=4.21.2,!=4.21.3,!=4.21.4,!=4.21.5,<5.0.0dev,>=3.20.3 in /usr/local/lib/python3.9/dist-packages (from tensorflow) (3.20.3)\n",
            "Requirement already satisfied: absl-py>=1.0.0 in /usr/local/lib/python3.9/dist-packages (from tensorflow) (1.4.0)\n",
            "Requirement already satisfied: termcolor>=1.1.0 in /usr/local/lib/python3.9/dist-packages (from tensorflow) (2.3.0)\n",
            "Requirement already satisfied: typing-extensions>=3.6.6 in /usr/local/lib/python3.9/dist-packages (from tensorflow) (4.5.0)\n",
            "Requirement already satisfied: wheel<1.0,>=0.23.0 in /usr/local/lib/python3.9/dist-packages (from astunparse>=1.6.0->tensorflow) (0.40.0)\n",
            "Requirement already satisfied: ml-dtypes>=0.0.3 in /usr/local/lib/python3.9/dist-packages (from jax>=0.3.15->tensorflow) (0.1.0)\n",
            "Requirement already satisfied: scipy>=1.7 in /usr/local/lib/python3.9/dist-packages (from jax>=0.3.15->tensorflow) (1.10.1)\n",
            "Requirement already satisfied: tensorboard-data-server<0.8.0,>=0.7.0 in /usr/local/lib/python3.9/dist-packages (from tensorboard<2.13,>=2.12->tensorflow) (0.7.0)\n",
            "Requirement already satisfied: werkzeug>=1.0.1 in /usr/local/lib/python3.9/dist-packages (from tensorboard<2.13,>=2.12->tensorflow) (2.2.3)\n",
            "Requirement already satisfied: google-auth<3,>=1.6.3 in /usr/local/lib/python3.9/dist-packages (from tensorboard<2.13,>=2.12->tensorflow) (2.17.3)\n",
            "Requirement already satisfied: tensorboard-plugin-wit>=1.6.0 in /usr/local/lib/python3.9/dist-packages (from tensorboard<2.13,>=2.12->tensorflow) (1.8.1)\n",
            "Requirement already satisfied: markdown>=2.6.8 in /usr/local/lib/python3.9/dist-packages (from tensorboard<2.13,>=2.12->tensorflow) (3.4.3)\n",
            "Requirement already satisfied: requests<3,>=2.21.0 in /usr/local/lib/python3.9/dist-packages (from tensorboard<2.13,>=2.12->tensorflow) (2.27.1)\n",
            "Requirement already satisfied: google-auth-oauthlib<1.1,>=0.5 in /usr/local/lib/python3.9/dist-packages (from tensorboard<2.13,>=2.12->tensorflow) (1.0.0)\n",
            "Requirement already satisfied: pyasn1-modules>=0.2.1 in /usr/local/lib/python3.9/dist-packages (from google-auth<3,>=1.6.3->tensorboard<2.13,>=2.12->tensorflow) (0.3.0)\n",
            "Requirement already satisfied: rsa<5,>=3.1.4 in /usr/local/lib/python3.9/dist-packages (from google-auth<3,>=1.6.3->tensorboard<2.13,>=2.12->tensorflow) (4.9)\n",
            "Requirement already satisfied: cachetools<6.0,>=2.0.0 in /usr/local/lib/python3.9/dist-packages (from google-auth<3,>=1.6.3->tensorboard<2.13,>=2.12->tensorflow) (5.3.0)\n",
            "Requirement already satisfied: requests-oauthlib>=0.7.0 in /usr/local/lib/python3.9/dist-packages (from google-auth-oauthlib<1.1,>=0.5->tensorboard<2.13,>=2.12->tensorflow) (1.3.1)\n",
            "Requirement already satisfied: importlib-metadata>=4.4 in /usr/local/lib/python3.9/dist-packages (from markdown>=2.6.8->tensorboard<2.13,>=2.12->tensorflow) (6.6.0)\n",
            "Requirement already satisfied: urllib3<1.27,>=1.21.1 in /usr/local/lib/python3.9/dist-packages (from requests<3,>=2.21.0->tensorboard<2.13,>=2.12->tensorflow) (1.26.15)\n",
            "Requirement already satisfied: certifi>=2017.4.17 in /usr/local/lib/python3.9/dist-packages (from requests<3,>=2.21.0->tensorboard<2.13,>=2.12->tensorflow) (2022.12.7)\n",
            "Requirement already satisfied: charset-normalizer~=2.0.0 in /usr/local/lib/python3.9/dist-packages (from requests<3,>=2.21.0->tensorboard<2.13,>=2.12->tensorflow) (2.0.12)\n",
            "Requirement already satisfied: idna<4,>=2.5 in /usr/local/lib/python3.9/dist-packages (from requests<3,>=2.21.0->tensorboard<2.13,>=2.12->tensorflow) (3.4)\n",
            "Requirement already satisfied: MarkupSafe>=2.1.1 in /usr/local/lib/python3.9/dist-packages (from werkzeug>=1.0.1->tensorboard<2.13,>=2.12->tensorflow) (2.1.2)\n",
            "Requirement already satisfied: zipp>=0.5 in /usr/local/lib/python3.9/dist-packages (from importlib-metadata>=4.4->markdown>=2.6.8->tensorboard<2.13,>=2.12->tensorflow) (3.15.0)\n",
            "Requirement already satisfied: pyasn1<0.6.0,>=0.4.6 in /usr/local/lib/python3.9/dist-packages (from pyasn1-modules>=0.2.1->google-auth<3,>=1.6.3->tensorboard<2.13,>=2.12->tensorflow) (0.5.0)\n",
            "Requirement already satisfied: oauthlib>=3.0.0 in /usr/local/lib/python3.9/dist-packages (from requests-oauthlib>=0.7.0->google-auth-oauthlib<1.1,>=0.5->tensorboard<2.13,>=2.12->tensorflow) (3.2.2)\n"
          ]
        }
      ],
      "source": [
        "!pip install keras\n",
        "!pip install tensorflow"
      ]
    },
    {
      "cell_type": "code",
      "execution_count": 2,
      "metadata": {
        "id": "xU5TKtj66uHq"
      },
      "outputs": [],
      "source": [
        "import numpy as np\n",
        "import pandas as pd\n",
        "from keras.applications.mobilenet import MobileNet, preprocess_input\n",
        "from tensorflow.keras.applications.mobilenet_v2 import MobileNetV2\n",
        "from tensorflow.keras.models import Sequential\n",
        "from tensorflow.keras.layers import Dropout, Dense,BatchNormalization, Flatten, MaxPool2D\n",
        "from keras.callbacks import ModelCheckpoint, EarlyStopping, ReduceLROnPlateau, Callback\n",
        "from keras.layers import Conv2D, Reshape\n",
        "from tensorflow.keras.utils import Sequence\n",
        "from keras.backend import epsilon\n",
        "import tensorflow as tf\n",
        "from sklearn.model_selection import train_test_split\n",
        "import matplotlib.pyplot as plt\n",
        "from tensorflow.keras.layers import GlobalAveragePooling2D\n",
        "from tensorflow.keras.optimizers import Adam\n",
        "from keras.preprocessing.image import ImageDataGenerator\n",
        "import cv2\n",
        "\n",
        "from tqdm.notebook import tqdm_notebook as tqdm\n",
        "\n",
        "import os"
      ]
    },
    {
      "cell_type": "code",
      "execution_count": 3,
      "metadata": {
        "colab": {
          "base_uri": "https://localhost:8080/"
        },
        "id": "qrxPygjw-TI7",
        "outputId": "e227c46d-ac43-48c0-d995-7237f14ab35d"
      },
      "outputs": [
        {
          "output_type": "stream",
          "name": "stdout",
          "text": [
            "['happy', 'relaxed', 'sad', 'angry']\n"
          ]
        }
      ],
      "source": [
        "print(os.listdir('/content/drive/MyDrive/images'))"
      ]
    },
    {
      "cell_type": "code",
      "execution_count": 4,
      "metadata": {
        "id": "auI2HsppCF_4"
      },
      "outputs": [],
      "source": [
        "angry= '/content/drive/MyDrive/images/angry/'\n",
        "sad = '/content/drive/MyDrive/images/sad/'\n",
        "relaxed = '/content/drive/MyDrive/images/relaxed/'\n",
        "happy = '/content/drive/MyDrive/images/happy/'\n",
        "\n",
        "\n",
        "angry_path = os.listdir(angry)\n",
        "sad_path = os.listdir(sad)\n",
        "relaxed_path = os.listdir(relaxed)\n",
        "happy_path = os.listdir(happy)"
      ]
    },
    {
      "cell_type": "code",
      "execution_count": 5,
      "metadata": {
        "id": "aHrjE3zdt6vc"
      },
      "outputs": [],
      "source": [
        "def load_img(path):\n",
        "    image = cv2.imread(path)\n",
        "    image = cv2.resize(image,(224, 224))\n",
        "    return image[...,::-1]"
      ]
    },
    {
      "cell_type": "code",
      "execution_count": 6,
      "metadata": {
        "id": "WJm4qyQDwQog"
      },
      "outputs": [],
      "source": [
        "dataset_path = \"/content/drive/MyDrive/images\""
      ]
    },
    {
      "cell_type": "code",
      "execution_count": 7,
      "metadata": {
        "colab": {
          "base_uri": "https://localhost:8080/"
        },
        "id": "YNvo9ctzwe07",
        "outputId": "4025dabc-2c16-4576-f4a3-b965d3efa0c0"
      },
      "outputs": [
        {
          "output_type": "stream",
          "name": "stdout",
          "text": [
            "Found 11161 images belonging to 4 classes.\n",
            "Found 4780 images belonging to 4 classes.\n"
          ]
        }
      ],
      "source": [
        "data_with_aug = ImageDataGenerator(horizontal_flip=True,\n",
        "                                   vertical_flip=False,\n",
        "                                   rescale=1./255,\n",
        "                                  validation_split=0.3)\n",
        "\n",
        "train = data_with_aug.flow_from_directory(dataset_path,\n",
        "                                          class_mode=\"categorical\",\n",
        "                                          target_size=(128,128),\n",
        "                                          batch_size=20,\n",
        "                                          subset=\"training\")\n",
        "\n",
        "val = data_with_aug.flow_from_directory(dataset_path,\n",
        "                                          class_mode=\"categorical\",\n",
        "                                          target_size=(128,128),\n",
        "                                          batch_size=20,\n",
        "                                          subset=\"validation\"\n",
        "                                          )"
      ]
    },
    {
      "cell_type": "code",
      "execution_count": 8,
      "metadata": {
        "colab": {
          "base_uri": "https://localhost:8080/"
        },
        "id": "OQVftUgHx8pL",
        "outputId": "2bd8b506-a35f-4dff-dfbe-7a4ca3d9e36f"
      },
      "outputs": [
        {
          "output_type": "stream",
          "name": "stdout",
          "text": [
            "Model: \"sequential\"\n",
            "_________________________________________________________________\n",
            " Layer (type)                Output Shape              Param #   \n",
            "=================================================================\n",
            " conv2d (Conv2D)             (None, 128, 128, 64)      9472      \n",
            "                                                                 \n",
            " max_pooling2d (MaxPooling2D  (None, 64, 64, 64)       0         \n",
            " )                                                               \n",
            "                                                                 \n",
            " conv2d_1 (Conv2D)           (None, 64, 64, 128)       204928    \n",
            "                                                                 \n",
            " max_pooling2d_1 (MaxPooling  (None, 32, 32, 128)      0         \n",
            " 2D)                                                             \n",
            "                                                                 \n",
            " conv2d_2 (Conv2D)           (None, 32, 32, 128)       147584    \n",
            "                                                                 \n",
            " max_pooling2d_2 (MaxPooling  (None, 16, 16, 128)      0         \n",
            " 2D)                                                             \n",
            "                                                                 \n",
            " flatten (Flatten)           (None, 32768)             0         \n",
            "                                                                 \n",
            " dropout (Dropout)           (None, 32768)             0         \n",
            "                                                                 \n",
            " dense (Dense)               (None, 128)               4194432   \n",
            "                                                                 \n",
            " dropout_1 (Dropout)         (None, 128)               0         \n",
            "                                                                 \n",
            " dense_1 (Dense)             (None, 64)                8256      \n",
            "                                                                 \n",
            " dense_2 (Dense)             (None, 4)                 260       \n",
            "                                                                 \n",
            "=================================================================\n",
            "Total params: 4,564,932\n",
            "Trainable params: 4,555,460\n",
            "Non-trainable params: 9,472\n",
            "_________________________________________________________________\n"
          ]
        }
      ],
      "source": [
        "# cnn\n",
        "model = Sequential([\n",
        "    Conv2D(64, 7, activation=\"relu\", padding=\"same\",\n",
        "                       input_shape=(128,128,3)),\n",
        "    MaxPool2D(2),\n",
        "    Conv2D(128, 5, activation=\"relu\", padding=\"same\"),\n",
        "    #Conv2D(128, 3, activation=\"relu\", padding=\"same\"),\n",
        "    MaxPool2D(2),\n",
        "    #Conv2D(256, 3, activation=\"relu\", padding=\"same\"),\n",
        "    Conv2D(128, 3, activation=\"relu\", padding=\"same\"),\n",
        "    MaxPool2D(2),\n",
        "    Flatten(),\n",
        "    Dropout(0.5),\n",
        "    Dense(128, activation=\"relu\"),\n",
        "    Dropout(0.3),\n",
        "    Dense(64, activation=\"relu\"),\n",
        "    Dense(4, activation=\"softmax\")\n",
        "])\n",
        "\n",
        "model.layers[0].trainable = False\n",
        "\n",
        "model.compile(\n",
        "    loss=\"categorical_crossentropy\", \n",
        "    optimizer=Adam(learning_rate=1e-5), \n",
        "    metrics=[\"accuracy\"]\n",
        ")\n",
        "\n",
        "model.summary()"
      ]
    },
    {
      "cell_type": "code",
      "execution_count": 9,
      "metadata": {
        "colab": {
          "base_uri": "https://localhost:8080/"
        },
        "id": "gXSN750pzE5N",
        "outputId": "71d401cd-8a06-449e-bf3a-6d3b4a2b16ae"
      },
      "outputs": [
        {
          "output_type": "stream",
          "name": "stdout",
          "text": [
            "Epoch 1/20\n",
            "559/559 [==============================] - 2590s 5s/step - loss: 1.3562 - accuracy: 0.2962 - val_loss: 1.3498 - val_accuracy: 0.3019\n",
            "Epoch 2/20\n",
            "559/559 [==============================] - 80s 142ms/step - loss: 1.3489 - accuracy: 0.3071 - val_loss: 1.3438 - val_accuracy: 0.3374\n",
            "Epoch 3/20\n",
            "559/559 [==============================] - 76s 136ms/step - loss: 1.3430 - accuracy: 0.3252 - val_loss: 1.3388 - val_accuracy: 0.3510\n",
            "Epoch 4/20\n",
            "559/559 [==============================] - 77s 138ms/step - loss: 1.3360 - accuracy: 0.3432 - val_loss: 1.3285 - val_accuracy: 0.3431\n",
            "Epoch 5/20\n",
            "559/559 [==============================] - 99s 177ms/step - loss: 1.3271 - accuracy: 0.3596 - val_loss: 1.3220 - val_accuracy: 0.3724\n",
            "Epoch 6/20\n",
            "559/559 [==============================] - 82s 147ms/step - loss: 1.3212 - accuracy: 0.3646 - val_loss: 1.3138 - val_accuracy: 0.3816\n",
            "Epoch 7/20\n",
            "559/559 [==============================] - 79s 141ms/step - loss: 1.3150 - accuracy: 0.3703 - val_loss: 1.3114 - val_accuracy: 0.3851\n",
            "Epoch 8/20\n",
            "559/559 [==============================] - 80s 143ms/step - loss: 1.3096 - accuracy: 0.3810 - val_loss: 1.3076 - val_accuracy: 0.3906\n",
            "Epoch 9/20\n",
            "559/559 [==============================] - 80s 143ms/step - loss: 1.3044 - accuracy: 0.3878 - val_loss: 1.3145 - val_accuracy: 0.3803\n",
            "Epoch 10/20\n",
            "559/559 [==============================] - 99s 178ms/step - loss: 1.3011 - accuracy: 0.3878 - val_loss: 1.3010 - val_accuracy: 0.3946\n",
            "Epoch 11/20\n",
            "559/559 [==============================] - 80s 143ms/step - loss: 1.2948 - accuracy: 0.3949 - val_loss: 1.2989 - val_accuracy: 0.3969\n",
            "Epoch 12/20\n",
            "559/559 [==============================] - 79s 142ms/step - loss: 1.2889 - accuracy: 0.4087 - val_loss: 1.2987 - val_accuracy: 0.3895\n",
            "Epoch 13/20\n",
            "559/559 [==============================] - 80s 143ms/step - loss: 1.2874 - accuracy: 0.4066 - val_loss: 1.2969 - val_accuracy: 0.4098\n",
            "Epoch 14/20\n",
            "559/559 [==============================] - 80s 142ms/step - loss: 1.2822 - accuracy: 0.4152 - val_loss: 1.2920 - val_accuracy: 0.4063\n",
            "Epoch 15/20\n",
            "559/559 [==============================] - 80s 143ms/step - loss: 1.2781 - accuracy: 0.4113 - val_loss: 1.2948 - val_accuracy: 0.4031\n",
            "Epoch 16/20\n",
            "559/559 [==============================] - 79s 141ms/step - loss: 1.2751 - accuracy: 0.4186 - val_loss: 1.2856 - val_accuracy: 0.4094\n",
            "Epoch 17/20\n",
            "559/559 [==============================] - 80s 143ms/step - loss: 1.2704 - accuracy: 0.4217 - val_loss: 1.2886 - val_accuracy: 0.4088\n",
            "Epoch 18/20\n",
            "559/559 [==============================] - 79s 141ms/step - loss: 1.2667 - accuracy: 0.4289 - val_loss: 1.2881 - val_accuracy: 0.4090\n",
            "Epoch 19/20\n",
            "559/559 [==============================] - 78s 139ms/step - loss: 1.2653 - accuracy: 0.4284 - val_loss: 1.2864 - val_accuracy: 0.4063\n",
            "Epoch 20/20\n",
            "559/559 [==============================] - 79s 142ms/step - loss: 1.2600 - accuracy: 0.4298 - val_loss: 1.2806 - val_accuracy: 0.4079\n"
          ]
        }
      ],
      "source": [
        "hist =  model.fit(train,epochs=20, validation_data=val)"
      ]
    },
    {
      "cell_type": "code",
      "source": [
        "import pickle\n",
        "\n",
        "filename = 'cnn_40_acc.sav'\n",
        "pickle.dump(model, open(filename, 'wb'))"
      ],
      "metadata": {
        "id": "VqZhxMD6aZMO"
      },
      "execution_count": 10,
      "outputs": []
    },
    {
      "cell_type": "code",
      "source": [
        "# imagenet\n",
        "from tensorflow.keras.applications import VGG16\n",
        "\n",
        "base_model = VGG16(weights='imagenet', include_top=False, input_shape=(128, 128, 3))\n",
        "for layer in base_model.layers:\n",
        "    layer.trainable = False\n",
        "\n",
        "model = Sequential([\n",
        "    base_model,\n",
        "    Flatten(),\n",
        "    Dense(256, activation='relu'),\n",
        "    Dense(4, activation='softmax')\n",
        "])\n",
        "\n",
        "# unfreeze some base layers\n",
        "for layer in model.layers[:10]:\n",
        "    layer.trainable = True\n",
        "\n",
        "model.compile(optimizer=Adam(lr=1e-5),\n",
        "              loss='categorical_crossentropy',\n",
        "              metrics=['accuracy'])\n",
        "\n",
        "hist = model.fit(train,epochs=20,validation_data=val)"
      ],
      "metadata": {
        "id": "gL87S_OW8cE2",
        "colab": {
          "base_uri": "https://localhost:8080/"
        },
        "outputId": "f553be3d-bdbf-4503-f842-83e25eb8707b"
      },
      "execution_count": 11,
      "outputs": [
        {
          "output_type": "stream",
          "name": "stdout",
          "text": [
            "Downloading data from https://storage.googleapis.com/tensorflow/keras-applications/vgg16/vgg16_weights_tf_dim_ordering_tf_kernels_notop.h5\n",
            "58889256/58889256 [==============================] - 0s 0us/step\n"
          ]
        },
        {
          "output_type": "stream",
          "name": "stderr",
          "text": [
            "WARNING:absl:`lr` is deprecated in Keras optimizer, please use `learning_rate` or use the legacy optimizer, e.g.,tf.keras.optimizers.legacy.Adam.\n"
          ]
        },
        {
          "output_type": "stream",
          "name": "stdout",
          "text": [
            "Epoch 1/20\n",
            "559/559 [==============================] - 102s 165ms/step - loss: 1.3989 - accuracy: 0.2919 - val_loss: 1.3569 - val_accuracy: 0.2623\n",
            "Epoch 2/20\n",
            "559/559 [==============================] - 90s 160ms/step - loss: 1.3523 - accuracy: 0.2976 - val_loss: 1.3517 - val_accuracy: 0.2728\n",
            "Epoch 3/20\n",
            "559/559 [==============================] - 89s 159ms/step - loss: 1.3508 - accuracy: 0.2985 - val_loss: 1.3506 - val_accuracy: 0.3015\n",
            "Epoch 4/20\n",
            "559/559 [==============================] - 109s 196ms/step - loss: 1.3509 - accuracy: 0.2979 - val_loss: 1.3505 - val_accuracy: 0.3015\n",
            "Epoch 5/20\n",
            "559/559 [==============================] - 88s 157ms/step - loss: 1.3508 - accuracy: 0.2989 - val_loss: 1.3502 - val_accuracy: 0.3015\n",
            "Epoch 6/20\n",
            "559/559 [==============================] - 106s 189ms/step - loss: 1.3510 - accuracy: 0.3002 - val_loss: 1.3503 - val_accuracy: 0.3015\n",
            "Epoch 7/20\n",
            "559/559 [==============================] - 87s 156ms/step - loss: 1.3511 - accuracy: 0.2979 - val_loss: 1.3507 - val_accuracy: 0.3015\n",
            "Epoch 8/20\n",
            "559/559 [==============================] - 85s 153ms/step - loss: 1.3510 - accuracy: 0.2992 - val_loss: 1.3504 - val_accuracy: 0.2843\n",
            "Epoch 9/20\n",
            "559/559 [==============================] - 87s 155ms/step - loss: 1.3508 - accuracy: 0.2982 - val_loss: 1.3504 - val_accuracy: 0.3015\n",
            "Epoch 10/20\n",
            "559/559 [==============================] - 88s 157ms/step - loss: 1.3508 - accuracy: 0.2993 - val_loss: 1.3505 - val_accuracy: 0.3015\n",
            "Epoch 11/20\n",
            "559/559 [==============================] - 86s 153ms/step - loss: 1.3511 - accuracy: 0.2978 - val_loss: 1.3501 - val_accuracy: 0.3015\n",
            "Epoch 12/20\n",
            "559/559 [==============================] - 86s 153ms/step - loss: 1.3508 - accuracy: 0.2959 - val_loss: 1.3505 - val_accuracy: 0.3015\n",
            "Epoch 13/20\n",
            "559/559 [==============================] - 87s 155ms/step - loss: 1.3509 - accuracy: 0.2996 - val_loss: 1.3503 - val_accuracy: 0.3015\n",
            "Epoch 14/20\n",
            "559/559 [==============================] - 106s 189ms/step - loss: 1.3507 - accuracy: 0.3013 - val_loss: 1.3503 - val_accuracy: 0.3015\n",
            "Epoch 15/20\n",
            "559/559 [==============================] - 86s 153ms/step - loss: 1.3507 - accuracy: 0.3004 - val_loss: 1.3507 - val_accuracy: 0.3015\n",
            "Epoch 16/20\n",
            "559/559 [==============================] - 87s 155ms/step - loss: 1.3510 - accuracy: 0.2993 - val_loss: 1.3503 - val_accuracy: 0.3015\n",
            "Epoch 17/20\n",
            "559/559 [==============================] - 85s 152ms/step - loss: 1.3507 - accuracy: 0.3006 - val_loss: 1.3504 - val_accuracy: 0.3015\n",
            "Epoch 18/20\n",
            "559/559 [==============================] - 86s 153ms/step - loss: 1.3507 - accuracy: 0.2997 - val_loss: 1.3503 - val_accuracy: 0.3015\n",
            "Epoch 19/20\n",
            "559/559 [==============================] - 107s 191ms/step - loss: 1.3508 - accuracy: 0.3013 - val_loss: 1.3502 - val_accuracy: 0.3015\n",
            "Epoch 20/20\n",
            "559/559 [==============================] - 85s 152ms/step - loss: 1.3508 - accuracy: 0.3002 - val_loss: 1.3501 - val_accuracy: 0.3015\n"
          ]
        }
      ]
    },
    {
      "cell_type": "code",
      "source": [
        "filename2 = 'vgg16__acc.sav'\n",
        "pickle.dump(model, open(filename2, 'wb'))"
      ],
      "metadata": {
        "id": "NMWcYquVahjF"
      },
      "execution_count": 12,
      "outputs": []
    },
    {
      "cell_type": "code",
      "source": [
        "# mobilenet\n",
        "from tensorflow.keras.applications import MobileNet\n",
        "from tensorflow.keras.models import Model\n",
        "\n",
        "model = MobileNet(weights='imagenet', include_top=False, input_shape=(128, 128, 3))\n",
        "\n",
        "x = model.output\n",
        "x = GlobalAveragePooling2D()(x)\n",
        "x = Dense(256, activation='relu')(x)\n",
        "x = Dense(4, activation='softmax')(x)\n",
        "model = Model(inputs=model.input, outputs=x)\n",
        "\n",
        "for layer in model.layers[:-3]:\n",
        "    layer.trainable = False\n",
        "\n",
        "model.compile(optimizer=Adam(lr=1e-5),\n",
        "              loss='categorical_crossentropy',\n",
        "              metrics=['accuracy'])\n",
        "\n",
        "model.fit(train,\n",
        "          epochs=10,\n",
        "          validation_data=val)\n",
        "\n",
        "# unfreeze some base layers\n",
        "for layer in model.layers[:-20]:\n",
        "    layer.trainable = True\n",
        "\n",
        "model.compile(optimizer=Adam(lr=1e-6),\n",
        "              loss='categorical_crossentropy',\n",
        "              metrics=['accuracy'])\n",
        "\n",
        "hist = model.fit(train,epochs=20,validation_data=val)\n"
      ],
      "metadata": {
        "colab": {
          "base_uri": "https://localhost:8080/"
        },
        "id": "mJBTgYG88fAS",
        "outputId": "2994e3ce-f6e8-40e2-e563-b9dc3c3a7568"
      },
      "execution_count": 16,
      "outputs": [
        {
          "metadata": {
            "tags": null
          },
          "name": "stderr",
          "output_type": "stream",
          "text": [
            "WARNING:absl:`lr` is deprecated in Keras optimizer, please use `learning_rate` or use the legacy optimizer, e.g.,tf.keras.optimizers.legacy.Adam.\n"
          ]
        },
        {
          "output_type": "stream",
          "name": "stdout",
          "text": [
            "Epoch 1/10\n",
            "559/559 [==============================] - 80s 139ms/step - loss: 1.1973 - accuracy: 0.4845 - val_loss: 1.1517 - val_accuracy: 0.5084\n",
            "Epoch 2/10\n",
            "559/559 [==============================] - 71s 127ms/step - loss: 1.0729 - accuracy: 0.5465 - val_loss: 1.1577 - val_accuracy: 0.5092\n",
            "Epoch 3/10\n",
            "559/559 [==============================] - 71s 127ms/step - loss: 1.0056 - accuracy: 0.5771 - val_loss: 1.1452 - val_accuracy: 0.5130\n",
            "Epoch 4/10\n",
            "559/559 [==============================] - 71s 127ms/step - loss: 0.9465 - accuracy: 0.6056 - val_loss: 1.1782 - val_accuracy: 0.5169\n",
            "Epoch 5/10\n",
            "559/559 [==============================] - 72s 129ms/step - loss: 0.8664 - accuracy: 0.6450 - val_loss: 1.2430 - val_accuracy: 0.4998\n",
            "Epoch 6/10\n",
            "559/559 [==============================] - 72s 130ms/step - loss: 0.7736 - accuracy: 0.6905 - val_loss: 1.2804 - val_accuracy: 0.4923\n",
            "Epoch 7/10\n",
            "559/559 [==============================] - 72s 129ms/step - loss: 0.6684 - accuracy: 0.7334 - val_loss: 1.4250 - val_accuracy: 0.4812\n",
            "Epoch 8/10\n",
            "559/559 [==============================] - 71s 128ms/step - loss: 0.5634 - accuracy: 0.7829 - val_loss: 1.4711 - val_accuracy: 0.4812\n",
            "Epoch 9/10\n",
            "559/559 [==============================] - 72s 128ms/step - loss: 0.4721 - accuracy: 0.8248 - val_loss: 1.5520 - val_accuracy: 0.4820\n",
            "Epoch 10/10\n",
            "559/559 [==============================] - 74s 132ms/step - loss: 0.3787 - accuracy: 0.8614 - val_loss: 1.7296 - val_accuracy: 0.4632\n"
          ]
        },
        {
          "output_type": "stream",
          "name": "stderr",
          "text": [
            "WARNING:absl:`lr` is deprecated in Keras optimizer, please use `learning_rate` or use the legacy optimizer, e.g.,tf.keras.optimizers.legacy.Adam.\n"
          ]
        },
        {
          "output_type": "stream",
          "name": "stdout",
          "text": [
            "Epoch 1/20\n",
            "559/559 [==============================] - 90s 137ms/step - loss: 1.2040 - accuracy: 0.4835 - val_loss: 1.2368 - val_accuracy: 0.4519\n",
            "Epoch 2/20\n",
            "559/559 [==============================] - 76s 136ms/step - loss: 1.1214 - accuracy: 0.5222 - val_loss: 1.1438 - val_accuracy: 0.5138\n",
            "Epoch 3/20\n",
            "559/559 [==============================] - 77s 138ms/step - loss: 1.0754 - accuracy: 0.5478 - val_loss: 1.1338 - val_accuracy: 0.5220\n",
            "Epoch 4/20\n",
            "559/559 [==============================] - 76s 136ms/step - loss: 1.0380 - accuracy: 0.5609 - val_loss: 1.1363 - val_accuracy: 0.5278\n",
            "Epoch 5/20\n",
            "559/559 [==============================] - 76s 136ms/step - loss: 1.0180 - accuracy: 0.5777 - val_loss: 1.1393 - val_accuracy: 0.5136\n",
            "Epoch 6/20\n",
            "559/559 [==============================] - 76s 136ms/step - loss: 0.9696 - accuracy: 0.6020 - val_loss: 1.1455 - val_accuracy: 0.5128\n",
            "Epoch 7/20\n",
            "559/559 [==============================] - 77s 137ms/step - loss: 0.9283 - accuracy: 0.6207 - val_loss: 1.1816 - val_accuracy: 0.4923\n",
            "Epoch 8/20\n",
            "559/559 [==============================] - 77s 138ms/step - loss: 0.8893 - accuracy: 0.6390 - val_loss: 1.2304 - val_accuracy: 0.4897\n",
            "Epoch 9/20\n",
            "559/559 [==============================] - 76s 136ms/step - loss: 0.8243 - accuracy: 0.6697 - val_loss: 1.2695 - val_accuracy: 0.4841\n",
            "Epoch 10/20\n",
            "559/559 [==============================] - 75s 135ms/step - loss: 0.7888 - accuracy: 0.6881 - val_loss: 1.4186 - val_accuracy: 0.4770\n",
            "Epoch 11/20\n",
            "559/559 [==============================] - 76s 137ms/step - loss: 0.7183 - accuracy: 0.7173 - val_loss: 1.3352 - val_accuracy: 0.5000\n",
            "Epoch 12/20\n",
            "559/559 [==============================] - 75s 135ms/step - loss: 0.6580 - accuracy: 0.7464 - val_loss: 1.4851 - val_accuracy: 0.4801\n",
            "Epoch 13/20\n",
            "559/559 [==============================] - 75s 134ms/step - loss: 0.6095 - accuracy: 0.7644 - val_loss: 1.3137 - val_accuracy: 0.5029\n",
            "Epoch 14/20\n",
            "559/559 [==============================] - 77s 137ms/step - loss: 0.5586 - accuracy: 0.7903 - val_loss: 1.5832 - val_accuracy: 0.4667\n",
            "Epoch 15/20\n",
            "559/559 [==============================] - 77s 138ms/step - loss: 0.4746 - accuracy: 0.8246 - val_loss: 1.6374 - val_accuracy: 0.4877\n",
            "Epoch 16/20\n",
            "559/559 [==============================] - 78s 139ms/step - loss: 0.4313 - accuracy: 0.8385 - val_loss: 1.6782 - val_accuracy: 0.5075\n",
            "Epoch 17/20\n",
            "559/559 [==============================] - 77s 138ms/step - loss: 0.3804 - accuracy: 0.8608 - val_loss: 1.9084 - val_accuracy: 0.4632\n",
            "Epoch 18/20\n",
            "559/559 [==============================] - 76s 136ms/step - loss: 0.3687 - accuracy: 0.8666 - val_loss: 1.8204 - val_accuracy: 0.4983\n",
            "Epoch 19/20\n",
            "559/559 [==============================] - 78s 139ms/step - loss: 0.3551 - accuracy: 0.8716 - val_loss: 1.8234 - val_accuracy: 0.4810\n",
            "Epoch 20/20\n",
            "559/559 [==============================] - ETA: 0s - loss: 0.3035 - accuracy: 0.8917"
          ]
        }
      ]
    },
    {
      "cell_type": "code",
      "source": [
        "filename3 = '50_acc.pickle'\n",
        "pickle.dump(model, open(filename3, 'wb'))"
      ],
      "metadata": {
        "id": "WixSGNtJDlmF"
      },
      "execution_count": 17,
      "outputs": []
    },
    {
      "cell_type": "code",
      "source": [
        "# resnet50\n",
        "from tensorflow.keras.applications import ResNet50\n",
        "\n",
        "base_model = ResNet50(weights='imagenet', include_top=False, input_shape=(128, 128, 3))\n",
        "\n",
        "x = base_model.output\n",
        "x = GlobalAveragePooling2D()(x)\n",
        "x = Dense(256, activation='relu')(x)\n",
        "predictions = Dense(4, activation='softmax')(x)\n",
        "\n",
        "model = Model(inputs=base_model.input, outputs=predictions)\n",
        "\n",
        "for layer in base_model.layers[:-3]:\n",
        "    layer.trainable = False\n",
        "\n",
        "model.compile(optimizer=Adam(lr=1e-5),\n",
        "              loss='categorical_crossentropy',\n",
        "              metrics=['accuracy'])\n",
        "\n",
        "hist = model.fit(train,epochs=20,validation_data=val)"
      ],
      "metadata": {
        "colab": {
          "base_uri": "https://localhost:8080/"
        },
        "id": "5zY9Cj0oDiEY",
        "outputId": "0341f70f-e97e-4d08-f70c-86ba316e0650"
      },
      "execution_count": 19,
      "outputs": [
        {
          "metadata": {
            "tags": null
          },
          "name": "stderr",
          "output_type": "stream",
          "text": [
            "WARNING:absl:`lr` is deprecated in Keras optimizer, please use `learning_rate` or use the legacy optimizer, e.g.,tf.keras.optimizers.legacy.Adam.\n"
          ]
        },
        {
          "output_type": "stream",
          "name": "stdout",
          "text": [
            "Epoch 1/20\n",
            "559/559 [==============================] - 111s 186ms/step - loss: 1.3473 - accuracy: 0.3467 - val_loss: 1.3336 - val_accuracy: 0.3303\n",
            "Epoch 2/20\n",
            "559/559 [==============================] - 78s 140ms/step - loss: 1.3218 - accuracy: 0.3609 - val_loss: 1.3085 - val_accuracy: 0.3874\n",
            "Epoch 3/20\n",
            "559/559 [==============================] - 78s 140ms/step - loss: 1.3113 - accuracy: 0.3839 - val_loss: 1.3005 - val_accuracy: 0.4010\n",
            "Epoch 4/20\n",
            "559/559 [==============================] - 77s 138ms/step - loss: 1.2999 - accuracy: 0.3906 - val_loss: 1.3133 - val_accuracy: 0.3818\n",
            "Epoch 5/20\n",
            "559/559 [==============================] - 78s 139ms/step - loss: 1.2998 - accuracy: 0.3975 - val_loss: 1.3003 - val_accuracy: 0.3958\n",
            "Epoch 6/20\n",
            "559/559 [==============================] - 97s 174ms/step - loss: 1.2921 - accuracy: 0.3996 - val_loss: 1.3041 - val_accuracy: 0.3952\n",
            "Epoch 7/20\n",
            "559/559 [==============================] - 76s 136ms/step - loss: 1.2891 - accuracy: 0.3969 - val_loss: 1.3075 - val_accuracy: 0.4040\n",
            "Epoch 8/20\n",
            "559/559 [==============================] - 76s 136ms/step - loss: 1.2853 - accuracy: 0.4084 - val_loss: 1.3082 - val_accuracy: 0.4015\n",
            "Epoch 9/20\n",
            "559/559 [==============================] - 78s 139ms/step - loss: 1.2816 - accuracy: 0.4056 - val_loss: 1.3052 - val_accuracy: 0.4027\n",
            "Epoch 10/20\n",
            "559/559 [==============================] - 78s 140ms/step - loss: 1.2758 - accuracy: 0.4167 - val_loss: 1.3083 - val_accuracy: 0.3923\n",
            "Epoch 11/20\n",
            "559/559 [==============================] - 97s 173ms/step - loss: 1.2773 - accuracy: 0.4087 - val_loss: 1.2992 - val_accuracy: 0.3994\n",
            "Epoch 12/20\n",
            "559/559 [==============================] - 78s 140ms/step - loss: 1.2685 - accuracy: 0.4200 - val_loss: 1.3033 - val_accuracy: 0.4010\n",
            "Epoch 13/20\n",
            "559/559 [==============================] - 77s 139ms/step - loss: 1.2675 - accuracy: 0.4201 - val_loss: 1.2991 - val_accuracy: 0.4063\n",
            "Epoch 14/20\n",
            "559/559 [==============================] - 78s 139ms/step - loss: 1.2634 - accuracy: 0.4209 - val_loss: 1.3039 - val_accuracy: 0.4004\n",
            "Epoch 15/20\n",
            "559/559 [==============================] - 76s 137ms/step - loss: 1.2639 - accuracy: 0.4166 - val_loss: 1.3132 - val_accuracy: 0.3872\n",
            "Epoch 16/20\n",
            "559/559 [==============================] - 76s 137ms/step - loss: 1.2580 - accuracy: 0.4254 - val_loss: 1.3056 - val_accuracy: 0.4019\n",
            "Epoch 17/20\n",
            "559/559 [==============================] - 76s 136ms/step - loss: 1.2537 - accuracy: 0.4302 - val_loss: 1.3080 - val_accuracy: 0.3975\n",
            "Epoch 18/20\n",
            "559/559 [==============================] - 78s 139ms/step - loss: 1.2581 - accuracy: 0.4222 - val_loss: 1.3003 - val_accuracy: 0.3996\n",
            "Epoch 19/20\n",
            "559/559 [==============================] - 77s 137ms/step - loss: 1.2514 - accuracy: 0.4311 - val_loss: 1.3073 - val_accuracy: 0.4033\n",
            "Epoch 20/20\n",
            "559/559 [==============================] - 78s 139ms/step - loss: 1.2486 - accuracy: 0.4326 - val_loss: 1.3117 - val_accuracy: 0.4017\n"
          ]
        }
      ]
    },
    {
      "cell_type": "code",
      "source": [
        "filename4 = 'resnet50.sav'\n",
        "pickle.dump(model, open(filename4, 'wb'))"
      ],
      "metadata": {
        "id": "XfnV_fAuN-hU"
      },
      "execution_count": 20,
      "outputs": []
    }
  ]
}