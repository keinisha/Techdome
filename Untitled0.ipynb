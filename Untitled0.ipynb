{
  "cells": [
    {
      "cell_type": "code",
      "execution_count": 1,
      "metadata": {
        "colab": {
          "base_uri": "https://localhost:8080/"
        },
        "id": "5zgqYa2I-kVQ",
        "outputId": "86da9dbe-a4e2-4d83-d136-3fa2de249761"
      },
      "outputs": [
        {
          "output_type": "stream",
          "name": "stdout",
          "text": [
            "Looking in indexes: https://pypi.org/simple, https://us-python.pkg.dev/colab-wheels/public/simple/\n",
            "Requirement already satisfied: keras in /usr/local/lib/python3.9/dist-packages (2.12.0)\n",
            "Looking in indexes: https://pypi.org/simple, https://us-python.pkg.dev/colab-wheels/public/simple/\n",
            "Requirement already satisfied: tensorflow in /usr/local/lib/python3.9/dist-packages (2.12.0)\n",
            "Requirement already satisfied: tensorboard<2.13,>=2.12 in /usr/local/lib/python3.9/dist-packages (from tensorflow) (2.12.2)\n",
            "Requirement already satisfied: termcolor>=1.1.0 in /usr/local/lib/python3.9/dist-packages (from tensorflow) (2.3.0)\n",
            "Requirement already satisfied: jax>=0.3.15 in /usr/local/lib/python3.9/dist-packages (from tensorflow) (0.4.8)\n",
            "Requirement already satisfied: tensorflow-estimator<2.13,>=2.12.0 in /usr/local/lib/python3.9/dist-packages (from tensorflow) (2.12.0)\n",
            "Requirement already satisfied: opt-einsum>=2.3.2 in /usr/local/lib/python3.9/dist-packages (from tensorflow) (3.3.0)\n",
            "Requirement already satisfied: numpy<1.24,>=1.22 in /usr/local/lib/python3.9/dist-packages (from tensorflow) (1.22.4)\n",
            "Requirement already satisfied: keras<2.13,>=2.12.0 in /usr/local/lib/python3.9/dist-packages (from tensorflow) (2.12.0)\n",
            "Requirement already satisfied: libclang>=13.0.0 in /usr/local/lib/python3.9/dist-packages (from tensorflow) (16.0.0)\n",
            "Requirement already satisfied: six>=1.12.0 in /usr/local/lib/python3.9/dist-packages (from tensorflow) (1.16.0)\n",
            "Requirement already satisfied: packaging in /usr/local/lib/python3.9/dist-packages (from tensorflow) (23.1)\n",
            "Requirement already satisfied: typing-extensions>=3.6.6 in /usr/local/lib/python3.9/dist-packages (from tensorflow) (4.5.0)\n",
            "Requirement already satisfied: grpcio<2.0,>=1.24.3 in /usr/local/lib/python3.9/dist-packages (from tensorflow) (1.54.0)\n",
            "Requirement already satisfied: gast<=0.4.0,>=0.2.1 in /usr/local/lib/python3.9/dist-packages (from tensorflow) (0.4.0)\n",
            "Requirement already satisfied: tensorflow-io-gcs-filesystem>=0.23.1 in /usr/local/lib/python3.9/dist-packages (from tensorflow) (0.32.0)\n",
            "Requirement already satisfied: google-pasta>=0.1.1 in /usr/local/lib/python3.9/dist-packages (from tensorflow) (0.2.0)\n",
            "Requirement already satisfied: astunparse>=1.6.0 in /usr/local/lib/python3.9/dist-packages (from tensorflow) (1.6.3)\n",
            "Requirement already satisfied: protobuf!=4.21.0,!=4.21.1,!=4.21.2,!=4.21.3,!=4.21.4,!=4.21.5,<5.0.0dev,>=3.20.3 in /usr/local/lib/python3.9/dist-packages (from tensorflow) (3.20.3)\n",
            "Requirement already satisfied: wrapt<1.15,>=1.11.0 in /usr/local/lib/python3.9/dist-packages (from tensorflow) (1.14.1)\n",
            "Requirement already satisfied: setuptools in /usr/local/lib/python3.9/dist-packages (from tensorflow) (67.7.2)\n",
            "Requirement already satisfied: flatbuffers>=2.0 in /usr/local/lib/python3.9/dist-packages (from tensorflow) (23.3.3)\n",
            "Requirement already satisfied: absl-py>=1.0.0 in /usr/local/lib/python3.9/dist-packages (from tensorflow) (1.4.0)\n",
            "Requirement already satisfied: h5py>=2.9.0 in /usr/local/lib/python3.9/dist-packages (from tensorflow) (3.8.0)\n",
            "Requirement already satisfied: wheel<1.0,>=0.23.0 in /usr/local/lib/python3.9/dist-packages (from astunparse>=1.6.0->tensorflow) (0.40.0)\n",
            "Requirement already satisfied: ml-dtypes>=0.0.3 in /usr/local/lib/python3.9/dist-packages (from jax>=0.3.15->tensorflow) (0.1.0)\n",
            "Requirement already satisfied: scipy>=1.7 in /usr/local/lib/python3.9/dist-packages (from jax>=0.3.15->tensorflow) (1.10.1)\n",
            "Requirement already satisfied: google-auth-oauthlib<1.1,>=0.5 in /usr/local/lib/python3.9/dist-packages (from tensorboard<2.13,>=2.12->tensorflow) (1.0.0)\n",
            "Requirement already satisfied: tensorboard-plugin-wit>=1.6.0 in /usr/local/lib/python3.9/dist-packages (from tensorboard<2.13,>=2.12->tensorflow) (1.8.1)\n",
            "Requirement already satisfied: requests<3,>=2.21.0 in /usr/local/lib/python3.9/dist-packages (from tensorboard<2.13,>=2.12->tensorflow) (2.27.1)\n",
            "Requirement already satisfied: google-auth<3,>=1.6.3 in /usr/local/lib/python3.9/dist-packages (from tensorboard<2.13,>=2.12->tensorflow) (2.17.3)\n",
            "Requirement already satisfied: markdown>=2.6.8 in /usr/local/lib/python3.9/dist-packages (from tensorboard<2.13,>=2.12->tensorflow) (3.4.3)\n",
            "Requirement already satisfied: tensorboard-data-server<0.8.0,>=0.7.0 in /usr/local/lib/python3.9/dist-packages (from tensorboard<2.13,>=2.12->tensorflow) (0.7.0)\n",
            "Requirement already satisfied: werkzeug>=1.0.1 in /usr/local/lib/python3.9/dist-packages (from tensorboard<2.13,>=2.12->tensorflow) (2.2.3)\n",
            "Requirement already satisfied: rsa<5,>=3.1.4 in /usr/local/lib/python3.9/dist-packages (from google-auth<3,>=1.6.3->tensorboard<2.13,>=2.12->tensorflow) (4.9)\n",
            "Requirement already satisfied: cachetools<6.0,>=2.0.0 in /usr/local/lib/python3.9/dist-packages (from google-auth<3,>=1.6.3->tensorboard<2.13,>=2.12->tensorflow) (5.3.0)\n",
            "Requirement already satisfied: pyasn1-modules>=0.2.1 in /usr/local/lib/python3.9/dist-packages (from google-auth<3,>=1.6.3->tensorboard<2.13,>=2.12->tensorflow) (0.3.0)\n",
            "Requirement already satisfied: requests-oauthlib>=0.7.0 in /usr/local/lib/python3.9/dist-packages (from google-auth-oauthlib<1.1,>=0.5->tensorboard<2.13,>=2.12->tensorflow) (1.3.1)\n",
            "Requirement already satisfied: importlib-metadata>=4.4 in /usr/local/lib/python3.9/dist-packages (from markdown>=2.6.8->tensorboard<2.13,>=2.12->tensorflow) (6.6.0)\n",
            "Requirement already satisfied: urllib3<1.27,>=1.21.1 in /usr/local/lib/python3.9/dist-packages (from requests<3,>=2.21.0->tensorboard<2.13,>=2.12->tensorflow) (1.26.15)\n",
            "Requirement already satisfied: certifi>=2017.4.17 in /usr/local/lib/python3.9/dist-packages (from requests<3,>=2.21.0->tensorboard<2.13,>=2.12->tensorflow) (2022.12.7)\n",
            "Requirement already satisfied: charset-normalizer~=2.0.0 in /usr/local/lib/python3.9/dist-packages (from requests<3,>=2.21.0->tensorboard<2.13,>=2.12->tensorflow) (2.0.12)\n",
            "Requirement already satisfied: idna<4,>=2.5 in /usr/local/lib/python3.9/dist-packages (from requests<3,>=2.21.0->tensorboard<2.13,>=2.12->tensorflow) (3.4)\n",
            "Requirement already satisfied: MarkupSafe>=2.1.1 in /usr/local/lib/python3.9/dist-packages (from werkzeug>=1.0.1->tensorboard<2.13,>=2.12->tensorflow) (2.1.2)\n",
            "Requirement already satisfied: zipp>=0.5 in /usr/local/lib/python3.9/dist-packages (from importlib-metadata>=4.4->markdown>=2.6.8->tensorboard<2.13,>=2.12->tensorflow) (3.15.0)\n",
            "Requirement already satisfied: pyasn1<0.6.0,>=0.4.6 in /usr/local/lib/python3.9/dist-packages (from pyasn1-modules>=0.2.1->google-auth<3,>=1.6.3->tensorboard<2.13,>=2.12->tensorflow) (0.5.0)\n",
            "Requirement already satisfied: oauthlib>=3.0.0 in /usr/local/lib/python3.9/dist-packages (from requests-oauthlib>=0.7.0->google-auth-oauthlib<1.1,>=0.5->tensorboard<2.13,>=2.12->tensorflow) (3.2.2)\n"
          ]
        }
      ],
      "source": [
        "!pip install keras\n",
        "!pip install tensorflow"
      ]
    },
    {
      "cell_type": "code",
      "execution_count": 2,
      "metadata": {
        "id": "xU5TKtj66uHq"
      },
      "outputs": [],
      "source": [
        "import numpy as np\n",
        "import pandas as pd\n",
        "from keras.applications.mobilenet import MobileNet, preprocess_input\n",
        "from tensorflow.keras.applications.mobilenet_v2 import MobileNetV2\n",
        "from tensorflow.keras.models import Sequential\n",
        "from tensorflow.keras.layers import Dropout, Dense,BatchNormalization, Flatten, MaxPool2D\n",
        "from keras.callbacks import ModelCheckpoint, EarlyStopping, ReduceLROnPlateau, Callback\n",
        "from keras.layers import Conv2D, Reshape\n",
        "from tensorflow.keras.utils import Sequence\n",
        "from keras.backend import epsilon\n",
        "import tensorflow as tf\n",
        "from sklearn.model_selection import train_test_split\n",
        "import matplotlib.pyplot as plt\n",
        "from tensorflow.keras.layers import GlobalAveragePooling2D\n",
        "from tensorflow.keras.optimizers import Adam\n",
        "from keras.preprocessing.image import ImageDataGenerator\n",
        "import cv2\n",
        "\n",
        "from tqdm.notebook import tqdm_notebook as tqdm\n",
        "\n",
        "import os"
      ]
    },
    {
      "cell_type": "code",
      "execution_count": 3,
      "metadata": {
        "colab": {
          "base_uri": "https://localhost:8080/"
        },
        "id": "qrxPygjw-TI7",
        "outputId": "3060a519-bf2f-415d-de32-242feba1eed3"
      },
      "outputs": [
        {
          "output_type": "stream",
          "name": "stdout",
          "text": [
            "['happy', 'relaxed', 'sad', 'angry']\n"
          ]
        }
      ],
      "source": [
        "print(os.listdir(\"/content/drive/MyDrive/images\"))"
      ]
    },
    {
      "cell_type": "code",
      "execution_count": 4,
      "metadata": {
        "id": "auI2HsppCF_4"
      },
      "outputs": [],
      "source": [
        "angry= '/content/drive/MyDrive/images/angry'\n",
        "sad = '/content/drive/MyDrive/images/sad/'\n",
        "relaxed = '/content/drive/MyDrive/images/relaxed/'\n",
        "happy = '/content/drive/MyDrive/images/happy/'\n",
        "\n",
        "\n",
        "angry_path = os.listdir(angry)\n",
        "sad_path = os.listdir(sad)\n",
        "relaxed_path = os.listdir(relaxed)\n",
        "happy_path = os.listdir(happy)"
      ]
    },
    {
      "cell_type": "code",
      "execution_count": 5,
      "metadata": {
        "id": "aHrjE3zdt6vc"
      },
      "outputs": [],
      "source": [
        "def load_img(path):\n",
        "    image = cv2.imread(path)\n",
        "    image = cv2.resize(image,(224, 224))\n",
        "    return image[...,::-1]"
      ]
    },
    {
      "cell_type": "code",
      "execution_count": 6,
      "metadata": {
        "id": "WJm4qyQDwQog"
      },
      "outputs": [],
      "source": [
        "dataset_path = \"/content/drive/MyDrive/images\""
      ]
    },
    {
      "cell_type": "code",
      "execution_count": 7,
      "metadata": {
        "colab": {
          "base_uri": "https://localhost:8080/"
        },
        "id": "YNvo9ctzwe07",
        "outputId": "70059e0d-8dfe-4ef7-d88b-8abe87ad3697"
      },
      "outputs": [
        {
          "output_type": "stream",
          "name": "stdout",
          "text": [
            "Found 11161 images belonging to 4 classes.\n",
            "Found 4780 images belonging to 4 classes.\n"
          ]
        }
      ],
      "source": [
        "data_with_aug = ImageDataGenerator(horizontal_flip=True,\n",
        "                                   vertical_flip=False,\n",
        "                                   rescale=1./255,\n",
        "                                  validation_split=0.3)\n",
        "\n",
        "train = data_with_aug.flow_from_directory(dataset_path,\n",
        "                                          class_mode=\"categorical\",\n",
        "                                          target_size=(128,128),\n",
        "                                          batch_size=20,\n",
        "                                          subset=\"training\")\n",
        "\n",
        "val = data_with_aug.flow_from_directory(dataset_path,\n",
        "                                          class_mode=\"categorical\",\n",
        "                                          target_size=(128,128),\n",
        "                                          batch_size=20,\n",
        "                                          subset=\"validation\"\n",
        "                                          )"
      ]
    },
    {
      "cell_type": "code",
      "source": [
        "import pickle\n",
        "from tensorflow.keras.models import Model"
      ],
      "metadata": {
        "id": "6TdeRIRXhSYu"
      },
      "execution_count": 8,
      "outputs": []
    },
    {
      "cell_type": "code",
      "source": [
        "# inception v3\n",
        "from tensorflow.keras.applications import InceptionV3\n",
        "\n",
        "base_model = InceptionV3(weights='imagenet', include_top=False, input_shape=(128, 128, 3))\n",
        "\n",
        "x = base_model.output\n",
        "x = GlobalAveragePooling2D()(x)\n",
        "x = Dense(256, activation='relu')(x)\n",
        "predictions = Dense(4, activation='softmax')(x)\n",
        "\n",
        "model = Model(inputs=base_model.input, outputs=predictions)\n",
        "\n",
        "for layer in base_model.layers[:-3]:\n",
        "    layer.trainable = False\n",
        "\n",
        "model.compile(optimizer=Adam(lr=1e-5),\n",
        "              loss='categorical_crossentropy',\n",
        "              metrics=['accuracy'])\n",
        "\n",
        "hist = model.fit(train,epochs=20,validation_data=val)"
      ],
      "metadata": {
        "colab": {
          "base_uri": "https://localhost:8080/"
        },
        "id": "ob9ee9HKIzfA",
        "outputId": "6d4ab52e-27a9-4ea1-e28e-8400c1b35a09"
      },
      "execution_count": 9,
      "outputs": [
        {
          "output_type": "stream",
          "name": "stdout",
          "text": [
            "Downloading data from https://storage.googleapis.com/tensorflow/keras-applications/inception_v3/inception_v3_weights_tf_dim_ordering_tf_kernels_notop.h5\n",
            "87910968/87910968 [==============================] - 0s 0us/step\n"
          ]
        },
        {
          "output_type": "stream",
          "name": "stderr",
          "text": [
            "WARNING:absl:`lr` is deprecated in Keras optimizer, please use `learning_rate` or use the legacy optimizer, e.g.,tf.keras.optimizers.legacy.Adam.\n"
          ]
        },
        {
          "output_type": "stream",
          "name": "stdout",
          "text": [
            "Epoch 1/20\n",
            "559/559 [==============================] - 2564s 5s/step - loss: 1.3922 - accuracy: 0.3866 - val_loss: 1.2751 - val_accuracy: 0.4192\n",
            "Epoch 2/20\n",
            "559/559 [==============================] - 81s 145ms/step - loss: 1.2449 - accuracy: 0.4427 - val_loss: 1.2724 - val_accuracy: 0.4184\n",
            "Epoch 3/20\n",
            "559/559 [==============================] - 81s 144ms/step - loss: 1.2257 - accuracy: 0.4552 - val_loss: 1.2481 - val_accuracy: 0.4423\n",
            "Epoch 4/20\n",
            "559/559 [==============================] - 100s 178ms/step - loss: 1.2091 - accuracy: 0.4680 - val_loss: 1.2422 - val_accuracy: 0.4441\n",
            "Epoch 5/20\n",
            "559/559 [==============================] - 80s 144ms/step - loss: 1.1968 - accuracy: 0.4797 - val_loss: 1.2328 - val_accuracy: 0.4477\n",
            "Epoch 6/20\n",
            "559/559 [==============================] - 79s 142ms/step - loss: 1.1804 - accuracy: 0.4886 - val_loss: 1.2506 - val_accuracy: 0.4506\n",
            "Epoch 7/20\n",
            "559/559 [==============================] - 83s 148ms/step - loss: 1.1756 - accuracy: 0.4823 - val_loss: 1.2321 - val_accuracy: 0.4540\n",
            "Epoch 8/20\n",
            "559/559 [==============================] - 86s 154ms/step - loss: 1.1662 - accuracy: 0.5008 - val_loss: 1.2741 - val_accuracy: 0.4389\n",
            "Epoch 9/20\n",
            "559/559 [==============================] - 80s 144ms/step - loss: 1.1589 - accuracy: 0.4985 - val_loss: 1.2774 - val_accuracy: 0.4362\n",
            "Epoch 10/20\n",
            "559/559 [==============================] - 98s 176ms/step - loss: 1.1555 - accuracy: 0.5008 - val_loss: 1.2650 - val_accuracy: 0.4496\n",
            "Epoch 11/20\n",
            "559/559 [==============================] - 82s 147ms/step - loss: 1.1428 - accuracy: 0.5069 - val_loss: 1.2674 - val_accuracy: 0.4387\n",
            "Epoch 12/20\n",
            "559/559 [==============================] - 80s 143ms/step - loss: 1.1401 - accuracy: 0.5121 - val_loss: 1.2583 - val_accuracy: 0.4531\n",
            "Epoch 13/20\n",
            "559/559 [==============================] - 80s 143ms/step - loss: 1.1362 - accuracy: 0.5138 - val_loss: 1.2762 - val_accuracy: 0.4381\n",
            "Epoch 14/20\n",
            "559/559 [==============================] - 81s 144ms/step - loss: 1.1316 - accuracy: 0.5158 - val_loss: 1.2850 - val_accuracy: 0.4410\n",
            "Epoch 15/20\n",
            "559/559 [==============================] - 98s 176ms/step - loss: 1.1235 - accuracy: 0.5238 - val_loss: 1.2623 - val_accuracy: 0.4504\n",
            "Epoch 16/20\n",
            "559/559 [==============================] - 80s 142ms/step - loss: 1.1191 - accuracy: 0.5244 - val_loss: 1.2533 - val_accuracy: 0.4479\n",
            "Epoch 17/20\n",
            "559/559 [==============================] - 80s 143ms/step - loss: 1.1212 - accuracy: 0.5204 - val_loss: 1.2578 - val_accuracy: 0.4404\n",
            "Epoch 18/20\n",
            "559/559 [==============================] - 82s 147ms/step - loss: 1.1075 - accuracy: 0.5266 - val_loss: 1.2620 - val_accuracy: 0.4416\n",
            "Epoch 19/20\n",
            "559/559 [==============================] - 100s 179ms/step - loss: 1.1047 - accuracy: 0.5325 - val_loss: 1.3210 - val_accuracy: 0.4410\n",
            "Epoch 20/20\n",
            "559/559 [==============================] - 81s 144ms/step - loss: 1.1036 - accuracy: 0.5289 - val_loss: 1.2854 - val_accuracy: 0.4410\n"
          ]
        }
      ]
    },
    {
      "cell_type": "code",
      "source": [
        "filename5 = 'inceptionv3.pkl'\n",
        "pickle.dump(model, open(filename5, 'wb'))"
      ],
      "metadata": {
        "id": "btZvpwQZyaFZ"
      },
      "execution_count": 12,
      "outputs": []
    },
    {
      "cell_type": "code",
      "source": [
        "# efficientnet\n",
        "from tensorflow.keras.applications import EfficientNetB0\n",
        "\n",
        "base_model = EfficientNetB0(weights='imagenet', include_top=False, input_shape=(128, 128, 3))\n",
        "\n",
        "x = base_model.output\n",
        "x = GlobalAveragePooling2D()(x)\n",
        "x = Dense(256, activation='relu')(x)\n",
        "predictions = Dense(4, activation='softmax')(x)\n",
        "\n",
        "model = tf.keras.Model(inputs=base_model.input, outputs=predictions)\n",
        "\n",
        "for layer in base_model.layers[:-3]:\n",
        "    layer.trainable = False\n",
        "\n",
        "model.compile(optimizer=Adam(lr=1e-5),\n",
        "              loss='categorical_crossentropy',\n",
        "              metrics=['accuracy'])\n",
        "\n",
        "hist = model.fit(train,epochs=20,validation_data=val)"
      ],
      "metadata": {
        "colab": {
          "base_uri": "https://localhost:8080/"
        },
        "id": "O5BWO03yyb5R",
        "outputId": "13d4840c-2307-4e53-c68f-74700773e82f"
      },
      "execution_count": 13,
      "outputs": [
        {
          "metadata": {
            "tags": null
          },
          "name": "stderr",
          "output_type": "stream",
          "text": [
            "WARNING:absl:`lr` is deprecated in Keras optimizer, please use `learning_rate` or use the legacy optimizer, e.g.,tf.keras.optimizers.legacy.Adam.\n"
          ]
        },
        {
          "output_type": "stream",
          "name": "stdout",
          "text": [
            "Epoch 1/20\n",
            "559/559 [==============================] - 108s 178ms/step - loss: 1.3700 - accuracy: 0.2933 - val_loss: 1.3706 - val_accuracy: 0.3015\n",
            "Epoch 2/20\n",
            "559/559 [==============================] - 80s 144ms/step - loss: 1.3548 - accuracy: 0.2891 - val_loss: 1.3513 - val_accuracy: 0.3015\n",
            "Epoch 3/20\n",
            "559/559 [==============================] - 78s 139ms/step - loss: 1.3529 - accuracy: 0.2971 - val_loss: 1.3512 - val_accuracy: 0.3015\n",
            "Epoch 4/20\n",
            "559/559 [==============================] - 79s 142ms/step - loss: 1.3533 - accuracy: 0.2987 - val_loss: 1.3514 - val_accuracy: 0.2843\n",
            "Epoch 5/20\n",
            "559/559 [==============================] - 80s 144ms/step - loss: 1.3521 - accuracy: 0.2950 - val_loss: 1.3509 - val_accuracy: 0.3015\n",
            "Epoch 6/20\n",
            "559/559 [==============================] - 78s 139ms/step - loss: 1.3528 - accuracy: 0.2978 - val_loss: 1.3513 - val_accuracy: 0.2843\n",
            "Epoch 7/20\n",
            "559/559 [==============================] - 78s 140ms/step - loss: 1.3522 - accuracy: 0.2904 - val_loss: 1.3507 - val_accuracy: 0.3015\n",
            "Epoch 8/20\n",
            "559/559 [==============================] - 78s 139ms/step - loss: 1.3521 - accuracy: 0.2990 - val_loss: 1.3525 - val_accuracy: 0.3015\n",
            "Epoch 9/20\n",
            "559/559 [==============================] - 78s 140ms/step - loss: 1.3516 - accuracy: 0.2962 - val_loss: 1.3511 - val_accuracy: 0.3015\n",
            "Epoch 10/20\n",
            "559/559 [==============================] - 77s 139ms/step - loss: 1.3512 - accuracy: 0.3007 - val_loss: 1.3507 - val_accuracy: 0.2843\n",
            "Epoch 11/20\n",
            "559/559 [==============================] - 77s 138ms/step - loss: 1.3513 - accuracy: 0.2927 - val_loss: 1.3502 - val_accuracy: 0.3015\n",
            "Epoch 12/20\n",
            "559/559 [==============================] - 80s 143ms/step - loss: 1.3513 - accuracy: 0.2999 - val_loss: 1.3511 - val_accuracy: 0.3015\n",
            "Epoch 13/20\n",
            "559/559 [==============================] - 76s 136ms/step - loss: 1.3513 - accuracy: 0.2987 - val_loss: 1.3518 - val_accuracy: 0.2843\n",
            "Epoch 14/20\n",
            "559/559 [==============================] - 78s 139ms/step - loss: 1.3512 - accuracy: 0.2968 - val_loss: 1.3502 - val_accuracy: 0.3015\n",
            "Epoch 15/20\n",
            "559/559 [==============================] - 77s 138ms/step - loss: 1.3514 - accuracy: 0.2987 - val_loss: 1.3501 - val_accuracy: 0.3015\n",
            "Epoch 16/20\n",
            "559/559 [==============================] - 77s 138ms/step - loss: 1.3511 - accuracy: 0.3027 - val_loss: 1.3503 - val_accuracy: 0.3015\n",
            "Epoch 17/20\n",
            "559/559 [==============================] - 77s 138ms/step - loss: 1.3512 - accuracy: 0.3007 - val_loss: 1.3518 - val_accuracy: 0.2843\n",
            "Epoch 18/20\n",
            "559/559 [==============================] - 78s 139ms/step - loss: 1.3513 - accuracy: 0.2989 - val_loss: 1.3500 - val_accuracy: 0.3015\n",
            "Epoch 19/20\n",
            "559/559 [==============================] - 77s 138ms/step - loss: 1.3510 - accuracy: 0.2987 - val_loss: 1.3506 - val_accuracy: 0.3015\n",
            "Epoch 20/20\n",
            "559/559 [==============================] - 78s 140ms/step - loss: 1.3511 - accuracy: 0.2979 - val_loss: 1.3500 - val_accuracy: 0.3015\n"
          ]
        }
      ]
    },
    {
      "cell_type": "code",
      "source": [
        "filename6 = 'efficientnet.pickle'\n",
        "pickle.dump(model, open(filename6, 'wb'))"
      ],
      "metadata": {
        "id": "bDZcfKtiyeBc"
      },
      "execution_count": 17,
      "outputs": []
    },
    {
      "cell_type": "code",
      "source": [
        "# mobilenet\n",
        "from tensorflow.keras.applications import MobileNet\n",
        "from tensorflow.keras.models import Model\n",
        "\n",
        "model = MobileNet(weights='imagenet', include_top=False, input_shape=(128, 128, 3))\n",
        "\n",
        "x = model.output\n",
        "x = GlobalAveragePooling2D()(x)\n",
        "x = Dense(256, activation='relu')(x)\n",
        "x = Dense(4, activation='softmax')(x)\n",
        "model = Model(inputs=model.input, outputs=x)\n",
        "\n",
        "for layer in model.layers[:-3]:\n",
        "    layer.trainable = False\n",
        "\n",
        "model.compile(optimizer=Adam(lr=1e-5),\n",
        "              loss='categorical_crossentropy',\n",
        "              metrics=['accuracy'])\n",
        "\n",
        "model.fit(train,\n",
        "          epochs=10,\n",
        "          validation_data=val)\n",
        "\n",
        "# unfreeze some base layers\n",
        "for layer in model.layers[:-20]:\n",
        "    layer.trainable = True\n",
        "\n",
        "model.compile(optimizer=Adam(lr=1e-6),\n",
        "              loss='categorical_crossentropy',\n",
        "              metrics=['accuracy'])\n",
        "\n",
        "hist = model.fit(train,epochs=20,validation_data=val)"
      ],
      "metadata": {
        "colab": {
          "base_uri": "https://localhost:8080/"
        },
        "id": "V7xEVyV5wz0G",
        "outputId": "fbc0f0f7-4ed7-4bbd-83b6-912f74e55612"
      },
      "execution_count": 18,
      "outputs": [
        {
          "output_type": "stream",
          "name": "stderr",
          "text": [
            "WARNING:absl:`lr` is deprecated in Keras optimizer, please use `learning_rate` or use the legacy optimizer, e.g.,tf.keras.optimizers.legacy.Adam.\n"
          ]
        },
        {
          "output_type": "stream",
          "name": "stdout",
          "text": [
            "Epoch 1/10\n",
            "559/559 [==============================] - 79s 137ms/step - loss: 1.2085 - accuracy: 0.4874 - val_loss: 1.1472 - val_accuracy: 0.5008\n",
            "Epoch 2/10\n",
            "559/559 [==============================] - 76s 135ms/step - loss: 1.0773 - accuracy: 0.5482 - val_loss: 1.1417 - val_accuracy: 0.5130\n",
            "Epoch 3/10\n",
            "559/559 [==============================] - 96s 171ms/step - loss: 1.0241 - accuracy: 0.5736 - val_loss: 1.1630 - val_accuracy: 0.5100\n",
            "Epoch 4/10\n",
            "559/559 [==============================] - 76s 135ms/step - loss: 0.9629 - accuracy: 0.6016 - val_loss: 1.1848 - val_accuracy: 0.5065\n",
            "Epoch 5/10\n",
            "559/559 [==============================] - 74s 133ms/step - loss: 0.8946 - accuracy: 0.6351 - val_loss: 1.2011 - val_accuracy: 0.5167\n",
            "Epoch 6/10\n",
            "559/559 [==============================] - 76s 136ms/step - loss: 0.8103 - accuracy: 0.6737 - val_loss: 1.2491 - val_accuracy: 0.5050\n",
            "Epoch 7/10\n",
            "559/559 [==============================] - 74s 133ms/step - loss: 0.7217 - accuracy: 0.7160 - val_loss: 1.3366 - val_accuracy: 0.4925\n",
            "Epoch 8/10\n",
            "559/559 [==============================] - 74s 133ms/step - loss: 0.6273 - accuracy: 0.7589 - val_loss: 1.4462 - val_accuracy: 0.4824\n",
            "Epoch 9/10\n",
            "559/559 [==============================] - 107s 191ms/step - loss: 0.5259 - accuracy: 0.7971 - val_loss: 1.5298 - val_accuracy: 0.4799\n",
            "Epoch 10/10\n",
            "559/559 [==============================] - 96s 171ms/step - loss: 0.4375 - accuracy: 0.8374 - val_loss: 1.6262 - val_accuracy: 0.4720\n"
          ]
        },
        {
          "output_type": "stream",
          "name": "stderr",
          "text": [
            "WARNING:absl:`lr` is deprecated in Keras optimizer, please use `learning_rate` or use the legacy optimizer, e.g.,tf.keras.optimizers.legacy.Adam.\n"
          ]
        },
        {
          "output_type": "stream",
          "name": "stdout",
          "text": [
            "Epoch 1/20\n",
            "559/559 [==============================] - 95s 143ms/step - loss: 1.1873 - accuracy: 0.5001 - val_loss: 1.1921 - val_accuracy: 0.4908\n",
            "Epoch 2/20\n",
            "559/559 [==============================] - 78s 139ms/step - loss: 1.1034 - accuracy: 0.5316 - val_loss: 1.1685 - val_accuracy: 0.5096\n",
            "Epoch 3/20\n",
            "559/559 [==============================] - 80s 143ms/step - loss: 1.0629 - accuracy: 0.5589 - val_loss: 1.1845 - val_accuracy: 0.4851\n",
            "Epoch 4/20\n",
            "559/559 [==============================] - 98s 176ms/step - loss: 1.0268 - accuracy: 0.5633 - val_loss: 1.2049 - val_accuracy: 0.4952\n",
            "Epoch 5/20\n",
            "559/559 [==============================] - 79s 142ms/step - loss: 0.9958 - accuracy: 0.5853 - val_loss: 1.1823 - val_accuracy: 0.5109\n",
            "Epoch 6/20\n",
            "559/559 [==============================] - 80s 143ms/step - loss: 0.9620 - accuracy: 0.6018 - val_loss: 1.1592 - val_accuracy: 0.5146\n",
            "Epoch 7/20\n",
            "559/559 [==============================] - 97s 173ms/step - loss: 0.9223 - accuracy: 0.6236 - val_loss: 1.2121 - val_accuracy: 0.5090\n",
            "Epoch 8/20\n",
            "559/559 [==============================] - 78s 139ms/step - loss: 0.8868 - accuracy: 0.6362 - val_loss: 1.1929 - val_accuracy: 0.5123\n",
            "Epoch 9/20\n",
            "559/559 [==============================] - 79s 140ms/step - loss: 0.8346 - accuracy: 0.6671 - val_loss: 1.5654 - val_accuracy: 0.4207\n",
            "Epoch 10/20\n",
            "559/559 [==============================] - 77s 138ms/step - loss: 0.8000 - accuracy: 0.6828 - val_loss: 1.3107 - val_accuracy: 0.5069\n",
            "Epoch 11/20\n",
            "559/559 [==============================] - 78s 139ms/step - loss: 0.7354 - accuracy: 0.7097 - val_loss: 1.2754 - val_accuracy: 0.4996\n",
            "Epoch 12/20\n",
            "559/559 [==============================] - 79s 142ms/step - loss: 0.6845 - accuracy: 0.7284 - val_loss: 1.3465 - val_accuracy: 0.4818\n",
            "Epoch 13/20\n",
            "559/559 [==============================] - 78s 139ms/step - loss: 0.6230 - accuracy: 0.7570 - val_loss: 1.3793 - val_accuracy: 0.4979\n",
            "Epoch 14/20\n",
            "559/559 [==============================] - 78s 139ms/step - loss: 0.5606 - accuracy: 0.7836 - val_loss: 1.5195 - val_accuracy: 0.4672\n",
            "Epoch 15/20\n",
            "559/559 [==============================] - 78s 140ms/step - loss: 0.5081 - accuracy: 0.8066 - val_loss: 1.6448 - val_accuracy: 0.4839\n",
            "Epoch 16/20\n",
            "559/559 [==============================] - 99s 177ms/step - loss: 0.4437 - accuracy: 0.8334 - val_loss: 1.8414 - val_accuracy: 0.4672\n",
            "Epoch 17/20\n",
            "559/559 [==============================] - 98s 176ms/step - loss: 0.4141 - accuracy: 0.8450 - val_loss: 1.6653 - val_accuracy: 0.4931\n",
            "Epoch 18/20\n",
            "559/559 [==============================] - 78s 140ms/step - loss: 0.3880 - accuracy: 0.8529 - val_loss: 1.6726 - val_accuracy: 0.4927\n",
            "Epoch 19/20\n",
            "559/559 [==============================] - 80s 143ms/step - loss: 0.3359 - accuracy: 0.8803 - val_loss: 2.0979 - val_accuracy: 0.4734\n",
            "Epoch 20/20\n",
            "559/559 [==============================] - 79s 141ms/step - loss: 0.3238 - accuracy: 0.8844 - val_loss: 2.0218 - val_accuracy: 0.4998\n"
          ]
        }
      ]
    },
    {
      "cell_type": "code",
      "source": [
        "filename3 = 'mobilenet.pickle'\n",
        "pickle.dump(model, open(filename3, 'wb'))"
      ],
      "metadata": {
        "id": "7EeertzbymLf"
      },
      "execution_count": 19,
      "outputs": []
    },
    {
      "cell_type": "code",
      "source": [],
      "metadata": {
        "id": "TPYO3KSL6TO4"
      },
      "execution_count": null,
      "outputs": []
    }
  ],
  "metadata": {
    "colab": {
      "provenance": []
    },
    "gpuClass": "standard",
    "kernelspec": {
      "display_name": "Python 3",
      "name": "python3"
    },
    "language_info": {
      "name": "python"
    },
    "accelerator": "GPU"
  },
  "nbformat": 4,
  "nbformat_minor": 0
}